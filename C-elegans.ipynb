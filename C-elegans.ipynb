{
 "cells": [
  {
   "cell_type": "code",
   "execution_count": 5,
   "metadata": {},
   "outputs": [],
   "source": [
    "import numpy as np\n",
    "import scipy.io as sio\n",
    "import scipy.linalg as la\n",
    "import scipy\n",
    "import scipy.integrate\n",
    "import matplotlib as mpl\n",
    "import matplotlib.pyplot as plt\n",
    "import os \n",
    "\n",
    "\n",
    "class planeSim(object):\n",
    "    def __init__(self,Ni=[276,278],Namp=2e4):\n",
    "        #load parameters\n",
    "        prams=sio.loadmat('./prams.mat')\n",
    "        Ac=prams['Ac']\n",
    "        L=prams['L']\n",
    "        Ec=prams['Ec']\n",
    "        sig=prams['sig']\n",
    "        ar=prams['ar'][0][0]\n",
    "        ad=prams['ad'][0][0]\n",
    "        memG=prams['memG'][0][0]\n",
    "        memV=prams['memV'][0][0]\n",
    "        gelec=prams['gelec'][0][0]\n",
    "        gchem=prams['gchem'][0][0]\n",
    "        beta=prams['beta'][0][0]\n",
    "        tau=prams['tau'][0][0]\n",
    "        \n",
    "        Ac=Ac.T        \n",
    "        \n",
    "        # input vector I is defined here:\n",
    "        N=279\n",
    "        Iv=np.zeros((N,1))\n",
    "        #give neurons indices in Ni an input amplitude of Namp\n",
    "        if np.size(Namp)==1:\n",
    "            if type(Namp)!=list:\n",
    "                Namp=[Namp]\n",
    "            Namp=Namp*len(Ni)\n",
    "        for i,n in enumerate(Ni):\n",
    "            Iv[n]=Namp[i]\n",
    "        I=Iv\n",
    "        self.I=I\n",
    "\n",
    "        eqS=ar/(ar*sig+ad)*sig\n",
    "        C=memG*np.eye(Ac.shape[0])+gelec*L+gchem*np.diag(np.squeeze(Ac.dot(eqS)))\n",
    "        b=memG*memV+gchem*Ac.dot(eqS*Ec)+I\n",
    "        self.C=C\n",
    "        self.b=b\n",
    "        eqV=la.lstsq(C,b)[0]\n",
    "        xin=np.concatenate((eqV,eqS),0)\n",
    "        self.xin=xin\n",
    "        \n",
    "        vmean=eqV+1/beta*np.log(1./sig-1)\n",
    "        global pramlist\n",
    "        #AcEc=Ac*(Ec.T)\n",
    "        pramlist=[L,Ac,Ec,sig,ar,ad,memG,memV,gelec,gchem,beta,tau,vmean,N,I]\n",
    "        \n",
    "        fwd=sio.loadmat('./fwdMotion.mat')\n",
    "        self.proj=fwd['projection']\n",
    "    \n",
    "    def runSim(self,tspan):\n",
    "        rhs=lambda x,t: np.squeeze(goveq(x.reshape(-1,1)))\n",
    "        x0=sio.loadmat('./CE100s.mat')\n",
    "        x0=x0['x']\n",
    "        x0=x0[np.random.randint(-122,0)]\n",
    "        x=scipy.integrate.odeint(rhs,np.squeeze(x0),tspan,rtol=1e-9,atol=1e-9)\n",
    "        V=self.proj.dot(x.T-self.xin);\n",
    "        return V\n",
    " \n",
    "def goveq(x):\n",
    "    L,Ac,Ec,sig,ar,ad,memG,memV,gelec,gchem,beta,tau,vmean,N,I=pramlist\n",
    "    v=x[:N]\n",
    "    s=x[N:]\n",
    "    dv=-1/tau*(memG*(v-memV)+gelec*(L.dot(v))+gchem*(v*(Ac.dot(s))-Ac.dot(s*Ec))-I)\n",
    "    ds=1./(1.+np.exp(-beta*(v-vmean)))*ar*(1-s)-ad*s\n",
    "    return np.concatenate((dv,ds),0)  \n"
   ]
  },
  {
   "cell_type": "code",
   "execution_count": 8,
   "metadata": {},
   "outputs": [
    {
     "data": {
      "text/plain": [
       "[<matplotlib.lines.Line2D at 0x7f39e5bfde80>]"
      ]
     },
     "execution_count": 8,
     "metadata": {},
     "output_type": "execute_result"
    },
    {
     "data": {
      "image/png": "[encoded data removed]",
      "text/plain": [
       "<Figure size 432x288 with 1 Axes>"
      ]
     },
     "metadata": {},
     "output_type": "display_data"
    }
   ],
   "source": [
    "worm=planeSim()\n",
    "T=2\n",
    "h=1.0e-4\n",
    "tspan=np.linspace(0,T,int(T/h+1))\n",
    "V=worm.runSim(tspan)\n",
    "\n",
    "plt.figure()\n",
    "plt.plot(V[0],V[1])"
   ]
  }
 ],
 "metadata": {
  "kernelspec": {
   "display_name": "Python 3",
   "language": "python",
   "name": "python3"
  },
  "language_info": {
   "codemirror_mode": {
    "name": "ipython",
    "version": 3
   },
   "file_extension": ".py",
   "mimetype": "text/x-python",
   "name": "python",
   "nbconvert_exporter": "python",
   "pygments_lexer": "ipython3",
   "version": "3.6.9"
  }
 },
 "nbformat": 4,
 "nbformat_minor": 2
}
